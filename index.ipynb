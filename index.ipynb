{
 "cells": [
  {
   "cell_type": "markdown",
   "metadata": {},
   "source": [
    "# Subplots and Enumeration - Lab\n",
    "\n",
    "## Introduction\n",
    "\n",
    "In this lab, we'll get some practice creating **_subplots_**, and explore how we can use the `enumerate` keyword to make creating them a bit easier!\n",
    "\n",
    "## Objectives\n",
    "\n",
    "You will be able to:\n",
    "\n",
    "* Use python's `enumerate` keyword for lists where we also to access the index\n",
    "* Create basic subplots with matplotlib\n",
    "* Use `enumerate` to write effective, pythonic code when creating subplots\n",
    "\n",
    "## Getting Started\n",
    "\n",
    "For this lab, we'll explore a dataset containing yearly population data about different countries and regions around the globe. Let's start by importing the dataset so we can get to work.\n",
    "\n",
    "In the cell below: \n",
    "\n",
    "* Import pandas and set the standard alias of `pd`\n",
    "* Import the `pyplot` module from `matplotlib` and set the standard alias of `plt`\n",
    "* Set matplotlib visualizations to appear inline with the command `%matplotlib inline`"
   ]
  },
  {
   "cell_type": "code",
   "execution_count": 1,
   "metadata": {},
   "outputs": [],
   "source": [
    "import pandas as pd\n",
    "import matplotlib.pyplot as plt\n",
    "%matplotlib inline"
   ]
  },
  {
   "cell_type": "markdown",
   "metadata": {},
   "source": [
    "Now, let's import the dataset. \n",
    "\n",
    "In the cell below:\n",
    "\n",
    "* Use pandas to read in the data stored in the file `population.csv`.\n",
    "* Print the head of the dataframe to ensure everything loaded correctly and get a feel for what this dataset contains. "
   ]
  },
  {
   "cell_type": "code",
   "execution_count": 2,
   "metadata": {},
   "outputs": [
    {
     "data": {
      "text/plain": [
       "<bound method DataFrame.info of       Country Name Country Code  Year        Value\n",
       "0       Arab World          ARB  1960   92490932.0\n",
       "1       Arab World          ARB  1961   95044497.0\n",
       "2       Arab World          ARB  1962   97682294.0\n",
       "3       Arab World          ARB  1963  100411076.0\n",
       "4       Arab World          ARB  1964  103239902.0\n",
       "5       Arab World          ARB  1965  106174988.0\n",
       "6       Arab World          ARB  1966  109230593.0\n",
       "7       Arab World          ARB  1967  112406932.0\n",
       "8       Arab World          ARB  1968  115680165.0\n",
       "9       Arab World          ARB  1969  119016542.0\n",
       "10      Arab World          ARB  1970  122398374.0\n",
       "11      Arab World          ARB  1971  125807419.0\n",
       "12      Arab World          ARB  1972  129269375.0\n",
       "13      Arab World          ARB  1973  132863416.0\n",
       "14      Arab World          ARB  1974  136696761.0\n",
       "15      Arab World          ARB  1975  140843298.0\n",
       "16      Arab World          ARB  1976  145332378.0\n",
       "17      Arab World          ARB  1977  150133054.0\n",
       "18      Arab World          ARB  1978  155183724.0\n",
       "19      Arab World          ARB  1979  160392488.0\n",
       "20      Arab World          ARB  1980  165689490.0\n",
       "21      Arab World          ARB  1981  171051950.0\n",
       "22      Arab World          ARB  1982  176490084.0\n",
       "23      Arab World          ARB  1983  182005827.0\n",
       "24      Arab World          ARB  1984  187610756.0\n",
       "25      Arab World          ARB  1985  193310301.0\n",
       "26      Arab World          ARB  1986  199093767.0\n",
       "27      Arab World          ARB  1987  204942549.0\n",
       "28      Arab World          ARB  1988  210844771.0\n",
       "29      Arab World          ARB  1989  216787402.0\n",
       "...            ...          ...   ...          ...\n",
       "14855     Zimbabwe          ZWE  1987    9293283.0\n",
       "14856     Zimbabwe          ZWE  1988    9604302.0\n",
       "14857     Zimbabwe          ZWE  1989    9902540.0\n",
       "14858     Zimbabwe          ZWE  1990   10183113.0\n",
       "14859     Zimbabwe          ZWE  1991   10443043.0\n",
       "14860     Zimbabwe          ZWE  1992   10682868.0\n",
       "14861     Zimbabwe          ZWE  1993   10905756.0\n",
       "14862     Zimbabwe          ZWE  1994   11116948.0\n",
       "14863     Zimbabwe          ZWE  1995   11320346.0\n",
       "14864     Zimbabwe          ZWE  1996   11518262.0\n",
       "14865     Zimbabwe          ZWE  1997   11709997.0\n",
       "14866     Zimbabwe          ZWE  1998   11893272.0\n",
       "14867     Zimbabwe          ZWE  1999   12064537.0\n",
       "14868     Zimbabwe          ZWE  2000   12222251.0\n",
       "14869     Zimbabwe          ZWE  2001   12366165.0\n",
       "14870     Zimbabwe          ZWE  2002   12500525.0\n",
       "14871     Zimbabwe          ZWE  2003   12633897.0\n",
       "14872     Zimbabwe          ZWE  2004   12777511.0\n",
       "14873     Zimbabwe          ZWE  2005   12940032.0\n",
       "14874     Zimbabwe          ZWE  2006   13124267.0\n",
       "14875     Zimbabwe          ZWE  2007   13329909.0\n",
       "14876     Zimbabwe          ZWE  2008   13558469.0\n",
       "14877     Zimbabwe          ZWE  2009   13810599.0\n",
       "14878     Zimbabwe          ZWE  2010   14086317.0\n",
       "14879     Zimbabwe          ZWE  2011   14386649.0\n",
       "14880     Zimbabwe          ZWE  2012   14710826.0\n",
       "14881     Zimbabwe          ZWE  2013   15054506.0\n",
       "14882     Zimbabwe          ZWE  2014   15411675.0\n",
       "14883     Zimbabwe          ZWE  2015   15777451.0\n",
       "14884     Zimbabwe          ZWE  2016   16150362.0\n",
       "\n",
       "[14885 rows x 4 columns]>"
      ]
     },
     "execution_count": 2,
     "metadata": {},
     "output_type": "execute_result"
    }
   ],
   "source": [
    "df = pd.read_csv('population.csv')\n",
    "df.info"
   ]
  },
  {
   "cell_type": "markdown",
   "metadata": {},
   "source": [
    "Our columns look fairly standard. Let's take a look at the `value_counts()` of the `'Country Name'` column to get a feel for how many years there are per country. \n",
    "\n",
    "Do this now in the cell below. "
   ]
  },
  {
   "cell_type": "code",
   "execution_count": 3,
   "metadata": {},
   "outputs": [
    {
     "data": {
      "text/plain": [
       "East Asia & Pacific                                  57\n",
       "Indonesia                                            57\n",
       "Kosovo                                               57\n",
       "South Asia                                           57\n",
       "Uganda                                               57\n",
       "Bulgaria                                             57\n",
       "Botswana                                             57\n",
       "Micronesia, Fed. Sts.                                57\n",
       "IDA only                                             57\n",
       "Mexico                                               57\n",
       "Bahrain                                              57\n",
       "Iran, Islamic Rep.                                   57\n",
       "St. Lucia                                            57\n",
       "Guinea                                               57\n",
       "Gabon                                                57\n",
       "Slovak Republic                                      57\n",
       "Pakistan                                             57\n",
       "Chile                                                57\n",
       "Ethiopia                                             57\n",
       "South Asia (IDA & IBRD)                              57\n",
       "IDA blend                                            57\n",
       "Benin                                                57\n",
       "Euro area                                            57\n",
       "Nauru                                                57\n",
       "Middle income                                        57\n",
       "American Samoa                                       57\n",
       "Afghanistan                                          57\n",
       "Norway                                               57\n",
       "Burkina Faso                                         57\n",
       "Belarus                                              57\n",
       "                                                     ..\n",
       "Georgia                                              57\n",
       "South Sudan                                          57\n",
       "Ghana                                                57\n",
       "Sao Tome and Principe                                57\n",
       "Lao PDR                                              57\n",
       "Guyana                                               57\n",
       "Costa Rica                                           57\n",
       "Brunei Darussalam                                    57\n",
       "Latin America & Caribbean (excluding high income)    57\n",
       "Swaziland                                            57\n",
       "Netherlands                                          57\n",
       "Iraq                                                 57\n",
       "United Kingdom                                       57\n",
       "Cameroon                                             57\n",
       "Ecuador                                              57\n",
       "Peru                                                 57\n",
       "Croatia                                              57\n",
       "East Asia & Pacific (IDA & IBRD countries)           57\n",
       "Low income                                           57\n",
       "Gambia, The                                          57\n",
       "Spain                                                57\n",
       "Early-demographic dividend                           57\n",
       "European Union                                       57\n",
       "Argentina                                            57\n",
       "Low & middle income                                  57\n",
       "Kuwait                                               54\n",
       "Eritrea                                              52\n",
       "Serbia                                               27\n",
       "West Bank and Gaza                                   27\n",
       "Sint Maarten (Dutch part)                            19\n",
       "Name: Country Name, Length: 263, dtype: int64"
      ]
     },
     "execution_count": 3,
     "metadata": {},
     "output_type": "execute_result"
    }
   ],
   "source": [
    "country_names = df.iloc[:,0]\n",
    "number_country_years = country_names.value_counts()\n",
    "number_country_years"
   ]
  },
  {
   "cell_type": "markdown",
   "metadata": {},
   "source": [
    "## Groupings and Subplots\n",
    "\n",
    "When creating subplots, it makes sense that we'll usually want the plots to contain data that is related to one another, so that the subplots will make it easy to visually compare and see trends or patterns. The easiest way to do this is to group our data by the types of information we're most interested in seeing. For this dataset, that means that we can group by `'Country Name'`, by `'Country Code'`, or by `'Year'`. Let's start by grouping by name.\n",
    "\n",
    "For our first subplot, we'll create 1 row containing 2 subplots. Let's start by getting some data for each of our plots. We'll start by getting some data to plot.  We'll do this by slicing data for the USA and Canada and storing them in separate variables. \n",
    "\n",
    "In the cell below:\n",
    "\n",
    "* Slice all the rows for '`United States`' and store them in the appropriate variable. \n",
    "* Slice all the rows for '`Canada`' and store them in the appropriate variable. \n",
    "* Inspect the `.head()` of each to ensure that we grabbed the data correctly. "
   ]
  },
  {
   "cell_type": "code",
   "execution_count": 4,
   "metadata": {},
   "outputs": [],
   "source": [
    "usa = df.loc[df['Country Name'] == 'United States']\n",
    "# usa.head()\n",
    "# type(usa['Year'])\n",
    "canada = df.loc[df['Country Name'] == 'Canada']\n",
    "# canada.head()"
   ]
  },
  {
   "cell_type": "markdown",
   "metadata": {},
   "source": [
    "Now that we have our data ready to go, lets go ahead and create a basic subplot. For our first batch of subplots, we'll use the quick way by making use of `plt.subplot()` and passing in the number of rows, number of columns, and the number of the subplot that we want to create. Then, we'll create our plot by passing in the corresponding data. \n",
    "\n",
    "When we call `plt.subplot()`, it will return an `ax` (short for 'axis') object that corresponds to the 3rd parameter we pass in--the actual plot we will want to create. To create subplots on the fly with this method, we'll:\n",
    "\n",
    "1. Get the `ax` object for the first plot  in the subplot we want to create. Store this in the variable `ax1`.\n",
    "2. Call `.plot()` on the `usa` DataFrame, and specify the following parameters:\n",
    "    * `x='Year'`\n",
    "    * `y='Value'`\n",
    "    * `ax=ax1`\n",
    "3. Use the `ax1` object's methods to do any labeling we find necessary.\n",
    "4. Repeat the process for `canada` with the second plot. Store this axis in `ax2`.  \n",
    "\n",
    "Do this now in the cell below. "
   ]
  },
  {
   "cell_type": "code",
   "execution_count": 6,
   "metadata": {},
   "outputs": [
    {
     "data": {
      "image/png": "[encoded data removed]",
      "text/plain": [
       "<Figure size 432x288 with 2 Axes>"
      ]
     },
     "metadata": {
      "needs_background": "light"
     },
     "output_type": "display_data"
    }
   ],
   "source": [
    "figure01 = plt.figure()\n",
    "figure01.suptitle('Year v Value')\n",
    "ax = figure01.add_subplot(221)\n",
    "ax1 = ax.scatter(x=[usa['Year']], y=[usa['Value']])\n",
    "ax1.axes.set_title('United States')\n",
    "ax1.axes.set_xlabel('Year')\n",
    "ax1.axes.set_ylabel('Value')\n",
    "ax = figure01.add_subplot(222)\n",
    "ax2 = ax.scatter(x=[canada['Year']], y=[canada['Value']])\n",
    "ax2.axes.set_title('Canada')\n",
    "ax2.axes.set_xlabel('Year')\n",
    "ax2.axes.set_ylabel('Value');"
   ]
  },
  {
   "cell_type": "markdown",
   "metadata": {},
   "source": [
    "Our plots look pretty good, but they're a bit squished together, and the plots themselves are much too small, which squishes the axis values.  Both of these problems have an easy fix. We'll begin by using `plt.figure()` and passing in a larger `figsize` of `(20, 10)` to tell matplotlib we want the full subplot to be 20 inches by 10.  \n",
    "\n",
    "We can fix the spacing quite easily by using `plt.subplots_adjust()` and changing the amount of space in between our plots. The [documentation for `subplots_adjust`](https://matplotlib.org/api/_as_gen/matplotlib.pyplot.subplots_adjust.html) tells us that the parameter we need to adjust is `wspace`. This is set to `0.2` by default, meaning that the amount of space between our plots is equal to 20% of the width of the plots. Let's set `wspace=0.4`, and see how that looks.\n",
    "\n",
    "In the cell below: \n",
    "\n",
    "* Call `plt.figure()` and use the `figsize` parameter to set the size of the total subplot to 20 inches wide by 10 inches tall. Remember to pass these values in as a tuple, with width first and height second. \n",
    "* Copy the visualization code from the cell above into the cell below. \n",
    "* After setting the title for the Canada plot, add the line `plt.subplots_adjust()` and pass in the parameter `wspace=0.4`."
   ]
  },
  {
   "cell_type": "code",
   "execution_count": 7,
   "metadata": {},
   "outputs": [
    {
     "data": {
      "image/png": "[encoded data removed]",
      "text/plain": [
       "<Figure size 1440x720 with 2 Axes>"
      ]
     },
     "metadata": {
      "needs_background": "light"
     },
     "output_type": "display_data"
    }
   ],
   "source": [
    "figure01 = plt.figure(figsize=(20,10))\n",
    "figure01.suptitle('Year v Value')\n",
    "ax = figure01.add_subplot(121)\n",
    "ax1 = ax.scatter(x=[usa['Year']], y=[usa['Value']], color = 'black')\n",
    "ax1.axes.set_title('United States')\n",
    "ax1.axes.set_xlabel('Year')\n",
    "ax1.axes.set_ylabel('Value')\n",
    "ax = figure01.add_subplot(122)\n",
    "ax2 = ax.scatter(x=[canada['Year']], y=[canada['Value']], color = 'black')\n",
    "ax2.axes.set_title('Canada')\n",
    "ax2.axes.set_xlabel('Year')\n",
    "ax2.axes.set_ylabel('Value')\n",
    "plt.subplots_adjust(wspace=0.4)"
   ]
  },
  {
   "cell_type": "markdown",
   "metadata": {},
   "source": [
    "Much better!\n",
    "\n",
    "Next, we'll see some advanced methods for creating subplots. But, before we do that, let's take a brief detour and learn about the `enumerate` keyword!\n",
    "\n",
    "## Using `enumerate()`\n",
    "\n",
    "Python's `enumerate()` keyword is a special type of for loop. It works just like a regular for-loop, with 1 major difference--instead of just returning the next object with each iteration of the loop, it also returns the index of the object from the collection we're looping through! \n",
    "\n",
    "Run the example code in the cell below, and examine the output. That should make it clear what is happening. "
   ]
  },
  {
   "cell_type": "code",
   "execution_count": 8,
   "metadata": {},
   "outputs": [
    {
     "name": "stdout",
     "output_type": "stream",
     "text": [
      "Index: 0      Value: foo\n",
      "Index: 1      Value: bar\n",
      "Index: 2      Value: baz\n"
     ]
    }
   ],
   "source": [
    "sample_list = ['foo', 'bar', 'baz']\n",
    "\n",
    "for index, value in enumerate(sample_list):\n",
    "    print(\"Index: {}      Value: {}\".format(index, value))    "
   ]
  },
  {
   "cell_type": "markdown",
   "metadata": {},
   "source": [
    "The `enumerate` keywor is extremely helpful anytime we need to do something that needs the index of the item we're looping through. Let's try an example.\n",
    "\n",
    "In the cell below: \n",
    "* `enumerate()` through `sample_list_2` in the cell below\n",
    "* For any item in `sample_list_2`, append it to the `odds` list if it's index is an odd number. \n",
    "* Once the loop has finished, print `odds`."
   ]
  },
  {
   "cell_type": "code",
   "execution_count": 15,
   "metadata": {},
   "outputs": [
    {
     "data": {
      "text/plain": [
       "['item at Index 1',\n",
       " 'item at Index 3',\n",
       " 'item at Index 5',\n",
       " 'item at Index 7',\n",
       " 'item at Index 9']"
      ]
     },
     "execution_count": 15,
     "metadata": {},
     "output_type": "execute_result"
    }
   ],
   "source": [
    "sample_list_2 = ['item at Index ' + str(i) for i in range(10)]\n",
    "odds = []\n",
    "\n",
    "# Write your code below this line\n",
    "for index, value in enumerate(sample_list_2):\n",
    "    if index % 2 == 1:\n",
    "        odds.append(value)\n",
    "    else:\n",
    "        continue\n",
    "\n",
    "\n",
    "# Write your code above this line\n",
    "\n",
    "odds\n",
    "# Expected Output: \n",
    "# ['item at Index 1',\n",
    "#  'item at Index 3',\n",
    "#  'item at Index 5',\n",
    "#  'item at Index 7',\n",
    "#  'item at Index 9']"
   ]
  },
  {
   "cell_type": "markdown",
   "metadata": {},
   "source": [
    "Great! There are plenty of situations where `enumerate()` comes in very handy. By allowing us to get the index and the value at the same time, it makes it simple to do something to something with one based on the value of the other. This is a natural requirement of subplots.\n",
    "\n",
    "## Enumerating with Subplots\n",
    "\n",
    "To end this lab, we'll see how we can use `enumerate` to easily subplot this entire dataframe by country--all 263 of them!\n",
    "\n",
    "It will work like this. We'll begin by grouping each row in our DataFrame by `'Country Name'`. Then, we'll create a `plt.figure()` and set the figure size to `(20,40)`. We'll also set the `facecolor` to `'white'`, so that it's a bit easier to read. \n",
    "\n",
    "Then comes the fun part. We'll enumerate through our grouped DataFrame. Just looping through a grouped DataFrame returns a tuple containing the index and the rows with that country name. Since we're grouped by `\"Country Name\"`, this means that the index will actually be the `'Country Name'`. However, we're not just looping through the grouped DataFrame--we're `enumerate`-ing through it! \n",
    "\n",
    "```python\n",
    "for index, (value1, value2) in enumerate(grouped_DataFrame):\n",
    "    # index is an integer, starting at 0 and counting up by 1 just \n",
    "    # like we would expect a for loop to do\n",
    "    \n",
    "    #(value1, value2) is a tuple containing the name of the country as value 1\n",
    "    # (since it is acting as the index because we grouped everything by it),\n",
    "    # and value 2 is all the rows that belong to that country's group. \n",
    "    \n",
    "```\n",
    "\n",
    "This means that the `index` for our enumeration will be an integer value that counts higher by 1 with each country. If we just add 1 to it (because subplots start counting at 1, but python starts counting at 0), then this number will correspond with the index we need to pass in as the third parameter in `plt.subplot()`--the parameter that specifies which plot inside the subplot should show the plot we're about to create. \n",
    "\n",
    "Don't worry if this seems confusing--the code below has been commented to help you. "
   ]
  },
  {
   "cell_type": "code",
   "execution_count": null,
   "metadata": {},
   "outputs": [],
   "source": [
    "# Group the DataFrame by Country Name--this line has been provided for you\n",
    "grouped_df = df.groupby('Country Name')\n",
    "\n",
    "# pass in figsize=(20,40), and also set the facecolor parameter to 'white'\n",
    "plt.figure(figsize=None, facecolor=None)\n",
    "\n",
    "# Complete the line below so that the first loop variable is the called index,\n",
    "# and the second loop variable is the tuple (countryname, population). \n",
    "for None, None in enumerate(grouped_df):\n",
    "    \n",
    "    # Get the unique subplot where the plot we're creating during this iteration\n",
    "    # of the loop will live. Our subplot will be 30 rows of 9 plots each. \n",
    "    # Set the third value to be index+1\n",
    "    ax = plt.subplot(30, 9, None)\n",
    "    \n",
    "    # Complete the line to create the plot for this subplot. \n",
    "    # Same visualizations as we created above!\n",
    "    population.plot(x=None, y=None, ax=None, legend=False)\n",
    "    \n",
    "    # Set the title of each plot, so we know which country it represents\n",
    "    ax.set_title(None)\n"
   ]
  },
  {
   "cell_type": "markdown",
   "metadata": {},
   "source": [
    "Great job! Being able to effectively create subplots with matplotlib is a solid data visualization skill to have--and using `enumerate()` makes our code that much simpler!\n",
    "\n",
    "## Summary\n",
    "\n",
    "In this lab, we learned how to create advanced subplots using `enumerate()` on grouped DataFrames!"
   ]
  }
 ],
 "metadata": {
  "kernelspec": {
   "display_name": "Python (learn-env)",
   "language": "python",
   "name": "learn-env"
  },
  "language_info": {
   "codemirror_mode": {
    "name": "ipython",
    "version": 3
   },
   "file_extension": ".py",
   "mimetype": "text/x-python",
   "name": "python",
   "nbconvert_exporter": "python",
   "pygments_lexer": "ipython3",
   "version": "3.6.6"
  }
 },
 "nbformat": 4,
 "nbformat_minor": 2
}
